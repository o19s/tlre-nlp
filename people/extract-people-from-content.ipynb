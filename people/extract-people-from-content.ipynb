{
 "cells": [
  {
   "cell_type": "code",
   "execution_count": 1,
   "metadata": {},
   "outputs": [],
   "source": [
    "import spacy\n",
    "import requests\n",
    "import datetime\n",
    "import json\n",
    "from spacy_lookup import Entity  #pip install spacy-lookup\n",
    "nlp = spacy.load('en_core_web_lg')"
   ]
  },
  {
   "cell_type": "code",
   "execution_count": 2,
   "metadata": {},
   "outputs": [],
   "source": [
    "def rawTmdbMovies(filename):\n",
    "    return json.load(open(filename))\n",
    "\n",
    "def tmdbPeople(filename='tmdb.json'):\n",
    "    tmdbMovies = rawTmdbMovies(filename)\n",
    "    for movieId, tmdbMovie in tmdbMovies.items():\n",
    "        directors = []\n",
    "        cast = []\n",
    "        if 'directors' in tmdbMovie.keys():\n",
    "            directors = [director['name'] for director in tmdbMovie['directors']]\n",
    "        if 'cast' in tmdbMovie.keys():\n",
    "            [castMember['name'] for castMember in tmdbMovie['cast']]\n",
    "        yield directors+cast"
   ]
  },
  {
   "cell_type": "code",
   "execution_count": 3,
   "metadata": {},
   "outputs": [],
   "source": [
    "def getPeopleEntities(filename='tmdb.json'):\n",
    "    people = set()\n",
    "    normalized_people = set()\n",
    "    people_entities = sorted(list(normalized_people))\n",
    "    for folks in tmdbPeople(filename):\n",
    "        people.update(folks)\n",
    "    for person in people:\n",
    "        normalized_people.add(person)\n",
    "        normalized_people.add(person.lower())\n",
    "    return sorted(list(normalized_people))"
   ]
  },
  {
   "cell_type": "code",
   "execution_count": 4,
   "metadata": {},
   "outputs": [],
   "source": [
    "people_entities=getPeopleEntities('../tmdb.json')\n",
    "people_entity_lookup = Entity(keywords_list=people_entities)\n",
    "nlp.add_pipe(people_entity_lookup, last=True)"
   ]
  },
  {
   "cell_type": "code",
   "execution_count": 9,
   "metadata": {},
   "outputs": [
    {
     "name": "stdout",
     "output_type": "stream",
     "text": [
      "george clooney 380\n",
      "Mississippi 384\n"
     ]
    }
   ],
   "source": [
    "doc = nlp(u\"The movie starred george clooney and was set in Mississippi\")\n",
    "for ent in doc.ents:\n",
    "    print(ent,ent.label)"
   ]
  },
  {
   "cell_type": "code",
   "execution_count": 34,
   "metadata": {},
   "outputs": [
    {
     "name": "stdout",
     "output_type": "stream",
     "text": [
      "emilio gómez muriel\n",
      "muriel coulin\n"
     ]
    }
   ],
   "source": [
    "for i in people_entities:\n",
    "    if 'muri' in i:\n",
    "        print(i)"
   ]
  },
  {
   "cell_type": "code",
   "execution_count": 2,
   "metadata": {},
   "outputs": [
    {
     "name": "stdout",
     "output_type": "stream",
     "text": [
      "[('java platform', 7, 'java platform'), ('python', 9, 'python')]\n"
     ]
    }
   ],
   "source": [
    "#entity = Entity(keywords_list=['python', 'java platform'])\n",
    "#nlp.add_pipe(entity)\n",
    "#doc = nlp(u\"I am a product manager for a java platform and python.\")\n",
    "#print(doc._.entities)"
   ]
  },
  {
   "cell_type": "code",
   "execution_count": null,
   "metadata": {},
   "outputs": [],
   "source": []
  }
 ],
 "metadata": {
  "kernelspec": {
   "display_name": "Python 3",
   "language": "python",
   "name": "python3"
  },
  "language_info": {
   "codemirror_mode": {
    "name": "ipython",
    "version": 3
   },
   "file_extension": ".py",
   "mimetype": "text/x-python",
   "name": "python",
   "nbconvert_exporter": "python",
   "pygments_lexer": "ipython3",
   "version": "3.6.7"
  }
 },
 "nbformat": 4,
 "nbformat_minor": 2
}
