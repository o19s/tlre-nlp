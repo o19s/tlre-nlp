{
 "cells": [
  {
   "cell_type": "code",
   "execution_count": 1,
   "metadata": {},
   "outputs": [
    {
     "name": "stdout",
     "output_type": "stream",
     "text": [
      "GPU!\n"
     ]
    }
   ],
   "source": [
    "import spacy\n",
    "import torch\n",
    "import numpy\n",
    "import json\n",
    "import datetime\n",
    "import sys\n",
    "import pickle\n",
    "from numpy.testing import assert_almost_equal\n",
    "is_using_gpu = spacy.prefer_gpu()\n",
    "if is_using_gpu:\n",
    "    print('GPU!')\n",
    "    torch.set_default_tensor_type(\"torch.cuda.FloatTensor\")\n",
    "nlp = spacy.load(\"en_pytt_bertbaseuncased_lg\")"
   ]
  },
  {
   "cell_type": "markdown",
   "metadata": {},
   "source": [
    "## Basic similarity examples\n",
    "Using huggingface's BERT model and the spacy-pytorch-transformers plugin"
   ]
  },
  {
   "cell_type": "code",
   "execution_count": 4,
   "metadata": {},
   "outputs": [
    {
     "name": "stdout",
     "output_type": "stream",
     "text": [
      "0.7342852\n",
      "768\n"
     ]
    }
   ],
   "source": [
    "doc = nlp(\"Here is some text to encode.\")\n",
    "apple1 = nlp(\"Apple shares rose on the news.\")\n",
    "apple2 = nlp(\"Apple sold fewer iPhones this quarter.\")\n",
    "print(apple1[0].similarity(apple2[0]))\n",
    "print(len(doc.tensor.mean(axis=0)))"
   ]
  },
  {
   "cell_type": "code",
   "execution_count": 5,
   "metadata": {},
   "outputs": [
    {
     "name": "stdout",
     "output_type": "stream",
     "text": [
      "0.7342852\n",
      "0.4336574\n"
     ]
    }
   ],
   "source": [
    "doc = nlp(\"Here is some text to encode.\")\n",
    "doc._.pytt_word_pieces_  # String values of the wordpieces\n",
    "doc._.pytt_word_pieces  # Wordpiece IDs (note: *not* spaCy's hash values!)\n",
    "doc._.pytt_alignment  # Alignment between spaCy tokens and wordpieces\n",
    "span = doc[2:4]\n",
    "# .vector and .similarity use the transformer outputs\n",
    "apple1 = nlp(\"Apple shares rose on the news.\")\n",
    "apple2 = nlp(\"Apple sold fewer iPhones this quarter.\")\n",
    "apple3 = nlp(\"Apple pie is delicious.\")\n",
    "print(apple1[0].similarity(apple2[0]))  # 0.73428553\n",
    "print(apple1[0].similarity(apple3[0]))  # 0.43365782"
   ]
  },
  {
   "cell_type": "markdown",
   "metadata": {},
   "source": [
    "## TMDB Utils"
   ]
  },
  {
   "cell_type": "code",
   "execution_count": 7,
   "metadata": {},
   "outputs": [],
   "source": [
    "def rawTmdbMovies(filename):\n",
    "    return json.load(open(filename))\n",
    "\n",
    "def indexableMovies(filename='tmdb.json'):\n",
    "    \"\"\" Generates TMDB movies, similar to how ES Bulk indexing\n",
    "        uses a generator to generate bulk index/update actions \"\"\"\n",
    "    tmdbMovies = rawTmdbMovies(filename)\n",
    "    for movieId, tmdbMovie in tmdbMovies.items():\n",
    "        title = ''\n",
    "        overview = ''\n",
    "        if 'title' in tmdbMovie.keys() and isinstance(tmdbMovie['title'], str):\n",
    "            title = tmdbMovie['title']        \n",
    "        if 'overview' in tmdbMovie.keys() and isinstance(tmdbMovie['overview'], str):\n",
    "            overview = tmdbMovie['overview']        \n",
    "        yield movieId,title.strip(),overview.strip()"
   ]
  },
  {
   "cell_type": "markdown",
   "metadata": {},
   "source": [
    "## Using tensors for reranking documents\n",
    "\n",
    "For this module, we explore how we can use tensor embeddings that are provided from BERT, to do text similarity.  We'll use this for a reranking demo to see some very interesting results!\n",
    "\n",
    "This notebook only saves the tensors to disk, the notebook 'tmdb-tensor-rerank' then uses these tensors for the search and reranking demo.\n",
    "\n",
    "For each movie, run the overview text through BERT and save the resulting tensor for use in comparissons.  Warning!  This produces lots of data.  Each overview is expanded to a tensor with an average compressed size of 300K."
   ]
  },
  {
   "cell_type": "code",
   "execution_count": 9,
   "metadata": {
    "scrolled": true
   },
   "outputs": [
    {
     "name": "stdout",
     "output_type": "stream",
     "text": [
      "2019-10-24 16:22:17.558928\n",
      "2019-10-24 16:22:17.622519\n",
      "0\n",
      "2019-10-24 16:22:42.412443\n",
      "1000\n",
      "2019-10-24 16:23:07.715188\n",
      "2000\n",
      "2019-10-24 16:23:32.451480\n",
      "3000\n",
      "2019-10-24 16:23:57.663494\n",
      "4000\n",
      "2019-10-24 16:24:23.309235\n",
      "5000\n",
      "2019-10-24 16:24:48.854009\n",
      "6000\n",
      "2019-10-24 16:25:16.344631\n",
      "7000\n",
      "2019-10-24 16:25:45.511870\n",
      "8000\n",
      "2019-10-24 16:26:13.441363\n",
      "9000\n",
      "2019-10-24 16:26:41.215524\n",
      "10000\n",
      "2019-10-24 16:27:07.984932\n",
      "11000\n",
      "2019-10-24 16:27:35.607620\n",
      "12000\n",
      "2019-10-24 16:28:03.338990\n",
      "13000\n",
      "2019-10-24 16:28:31.548323\n",
      "14000\n",
      "2019-10-24 16:28:59.621166\n",
      "15000\n",
      "2019-10-24 16:29:25.329293\n",
      "16000\n",
      "2019-10-24 16:29:52.113955\n",
      "17000\n",
      "2019-10-24 16:30:19.586912\n",
      "18000\n",
      "2019-10-24 16:30:47.977656\n",
      "19000\n",
      "2019-10-24 16:31:19.052327\n",
      "20000\n",
      "2019-10-24 16:31:50.168801\n",
      "21000\n",
      "2019-10-24 16:32:20.282288\n",
      "22000\n",
      "2019-10-24 16:32:49.722497\n",
      "23000\n",
      "2019-10-24 16:33:19.104779\n",
      "24000\n",
      "2019-10-24 16:33:48.558582\n",
      "25000\n",
      "2019-10-24 16:34:18.120400\n",
      "26000\n",
      "2019-10-24 16:34:48.046921\n",
      "27000\n"
     ]
    }
   ],
   "source": [
    "movies = []\n",
    "for movieid,title,overview in indexableMovies('../tmdb.json'):\n",
    "    if(len(overview)):\n",
    "        movies.append([movieid,title,overview])\n",
    "\n",
    "i=0\n",
    "print(datetime.datetime.now())\n",
    "for movie in movies:\n",
    "    try:\n",
    "        vectors = nlp(movie[2]).tensor\n",
    "        with open('vectors/' + str(movie[0]) + '.pickle','wb') as outfile:\n",
    "            pickle.dump(vectors,outfile)\n",
    "    except:\n",
    "        e = sys.exc_info()[0]\n",
    "        print(i,text[0:24],e)\n",
    "    if i%1000==0:\n",
    "        print(datetime.datetime.now())\n",
    "        print(i)\n",
    "    i+=1"
   ]
  },
  {
   "cell_type": "code",
   "execution_count": 10,
   "metadata": {},
   "outputs": [
    {
     "name": "stdout",
     "output_type": "stream",
     "text": [
      "m = 135\n",
      "n = 768\n",
      "[[-5.1900923e-01 -4.5147657e-01 -1.6509795e-01 ... -4.2124951e-01\n",
      "   7.7184802e-01 -6.4559288e-02]\n",
      " [-8.0238420e-01 -9.1747904e-01 -8.3499902e-01 ...  8.7159149e-02\n",
      "   6.2576610e-01 -5.1558369e-01]\n",
      " [-1.7619914e+00 -2.6495035e+00 -1.4534602e+00 ... -2.4488549e+00\n",
      "   1.1497426e+00 -1.1555943e+00]\n",
      " ...\n",
      " [ 1.1116136e-03 -4.3683195e-01  4.0216276e-01 ...  2.3511739e-01\n",
      "   8.4110722e-03 -9.5739168e-01]\n",
      " [-1.9781365e-01 -5.2316529e-01  1.3382150e-01 ...  1.8816410e-01\n",
      "   3.3785015e-02 -2.9393935e-01]\n",
      " [ 4.6562946e-01 -3.3216679e-01 -2.7836835e-01 ...  9.7025990e-02\n",
      "  -1.6230325e-01 -3.9267242e-01]]\n"
     ]
    }
   ],
   "source": [
    "tensor=None\n",
    "with open(\"vectors/100402.pickle\", \"rb\") as input_file:\n",
    "     tensor = pickle.load(input_file)\n",
    "print('m =',len(tensor))\n",
    "print('n =',len(tensor[0]))\n",
    "print(tensor)"
   ]
  },
  {
   "cell_type": "code",
   "execution_count": null,
   "metadata": {},
   "outputs": [],
   "source": []
  }
 ],
 "metadata": {
  "kernelspec": {
   "display_name": "Python 3",
   "language": "python",
   "name": "python3"
  },
  "language_info": {
   "codemirror_mode": {
    "name": "ipython",
    "version": 3
   },
   "file_extension": ".py",
   "mimetype": "text/x-python",
   "name": "python",
   "nbconvert_exporter": "python",
   "pygments_lexer": "ipython3",
   "version": "3.7.4"
  }
 },
 "nbformat": 4,
 "nbformat_minor": 2
}
